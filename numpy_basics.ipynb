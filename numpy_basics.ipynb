{
 "cells": [
  {
   "cell_type": "markdown",
   "id": "beef54b1-be41-4e6d-a215-de20416efb98",
   "metadata": {},
   "source": [
    "# Numpy "
   ]
  },
  {
   "cell_type": "markdown",
   "id": "cffdc01c-15f0-4f1f-8439-66b8ea9b7bd2",
   "metadata": {},
   "source": [
    "Numpy is a library which provides support for large, homogeneous, multi-dimensional arrays and matrices"
   ]
  },
  {
   "cell_type": "code",
   "execution_count": 9,
   "id": "0472224f-febd-4a86-a5aa-c7d316e86164",
   "metadata": {},
   "outputs": [
    {
     "name": "stdout",
     "output_type": "stream",
     "text": [
      "Collecting numpy\n",
      "  Obtaining dependency information for numpy from https://files.pythonhosted.org/packages/fc/84/7f801a42a67b9772a883223a0a1e12069a14626c81a732bd70aac57aebc1/numpy-2.2.2-cp312-cp312-win_amd64.whl.metadata\n",
      "  Downloading numpy-2.2.2-cp312-cp312-win_amd64.whl.metadata (60 kB)\n",
      "     ---------------------------------------- 0.0/60.8 kB ? eta -:--:--\n",
      "     ------ --------------------------------- 10.2/60.8 kB ? eta -:--:--\n",
      "     ------------ ------------------------- 20.5/60.8 kB 217.9 kB/s eta 0:00:01\n",
      "     ------------------- ------------------ 30.7/60.8 kB 262.6 kB/s eta 0:00:01\n",
      "     ------------------------------- ------ 51.2/60.8 kB 327.7 kB/s eta 0:00:01\n",
      "     -------------------------------------- 60.8/60.8 kB 294.2 kB/s eta 0:00:00\n",
      "Downloading numpy-2.2.2-cp312-cp312-win_amd64.whl (12.6 MB)\n",
      "   ---------------------------------------- 0.0/12.6 MB ? eta -:--:--\n",
      "   ---------------------------------------- 0.1/12.6 MB 3.6 MB/s eta 0:00:04\n",
      "   - -------------------------------------- 0.6/12.6 MB 7.4 MB/s eta 0:00:02\n",
      "   ---- ----------------------------------- 1.3/12.6 MB 10.6 MB/s eta 0:00:02\n",
      "   ------ --------------------------------- 2.1/12.6 MB 12.4 MB/s eta 0:00:01\n",
      "   ------- -------------------------------- 2.4/12.6 MB 13.6 MB/s eta 0:00:01\n",
      "   --------- ------------------------------ 3.1/12.6 MB 11.6 MB/s eta 0:00:01\n",
      "   ------------- -------------------------- 4.2/12.6 MB 13.2 MB/s eta 0:00:01\n",
      "   ---------------- ----------------------- 5.3/12.6 MB 14.7 MB/s eta 0:00:01\n",
      "   -------------------- ------------------- 6.4/12.6 MB 15.7 MB/s eta 0:00:01\n",
      "   ------------------------ --------------- 7.6/12.6 MB 17.4 MB/s eta 0:00:01\n",
      "   ---------------------------- ----------- 8.9/12.6 MB 18.4 MB/s eta 0:00:01\n",
      "   --------------------------------- ------ 10.5/12.6 MB 21.1 MB/s eta 0:00:01\n",
      "   ------------------------------------ --- 11.6/12.6 MB 22.6 MB/s eta 0:00:01\n",
      "   ---------------------------------------  12.6/12.6 MB 26.2 MB/s eta 0:00:01\n",
      "   ---------------------------------------  12.6/12.6 MB 26.2 MB/s eta 0:00:01\n",
      "   ---------------------------------------- 12.6/12.6 MB 21.8 MB/s eta 0:00:00\n",
      "Installing collected packages: numpy\n",
      "Successfully installed numpy-2.2.2\n"
     ]
    },
    {
     "name": "stderr",
     "output_type": "stream",
     "text": [
      "\n",
      "[notice] A new release of pip is available: 23.2.1 -> 25.0\n",
      "[notice] To update, run: python.exe -m pip install --upgrade pip\n"
     ]
    }
   ],
   "source": [
    "!pip install numpy"
   ]
  },
  {
   "cell_type": "code",
   "execution_count": 3,
   "id": "8ebe9f74-081f-4046-bd48-c78c20e7e9bc",
   "metadata": {},
   "outputs": [],
   "source": [
    "#import numpy\n",
    "import numpy as np"
   ]
  },
  {
   "cell_type": "markdown",
   "id": "0fe5081c-b4a9-439e-b827-0f5602663a5f",
   "metadata": {},
   "source": [
    "# Creating an array from a list"
   ]
  },
  {
   "cell_type": "code",
   "execution_count": 4,
   "id": "3e25e41f-a370-47c8-ab1f-c879e5f8561b",
   "metadata": {},
   "outputs": [
    {
     "data": {
      "text/plain": [
       "[10, 20, 30]"
      ]
     },
     "execution_count": 4,
     "metadata": {},
     "output_type": "execute_result"
    }
   ],
   "source": [
    "list1 = [10,20,30]\n",
    "list1"
   ]
  },
  {
   "cell_type": "code",
   "execution_count": 5,
   "id": "22ff6a13-001e-4f76-b062-8fdfcfbb4c77",
   "metadata": {},
   "outputs": [
    {
     "data": {
      "text/plain": [
       "array([10, 20, 30])"
      ]
     },
     "execution_count": 5,
     "metadata": {},
     "output_type": "execute_result"
    }
   ],
   "source": [
    "arr1 = np.array(list1)\n",
    "arr1"
   ]
  },
  {
   "cell_type": "code",
   "execution_count": 6,
   "id": "50ef4d02-16b0-4b6d-aa59-93bbf691770a",
   "metadata": {},
   "outputs": [
    {
     "data": {
      "text/plain": [
       "numpy.ndarray"
      ]
     },
     "execution_count": 6,
     "metadata": {},
     "output_type": "execute_result"
    }
   ],
   "source": [
    "type(arr1)"
   ]
  },
  {
   "cell_type": "markdown",
   "id": "763cd9e1-d0b1-4879-af3f-60cc64d5a85d",
   "metadata": {},
   "source": [
    "# Using arrange to create an array"
   ]
  },
  {
   "cell_type": "markdown",
   "id": "f2b40852-fcd2-4707-a9cd-ffdb756fd4c1",
   "metadata": {},
   "source": [
    "The difference between array and arrange is that array takes in a list and turns it into an array, whereas arange creates an array from a range of numbers"
   ]
  },
  {
   "cell_type": "code",
   "execution_count": 7,
   "id": "8930e5e0-5c4a-4f01-902e-eb59c2e2f556",
   "metadata": {},
   "outputs": [
    {
     "data": {
      "text/plain": [
       "array([10, 11, 12, 13, 14, 15, 16, 17, 18, 19])"
      ]
     },
     "execution_count": 7,
     "metadata": {},
     "output_type": "execute_result"
    }
   ],
   "source": [
    "arr2 = np.arange(10, 20, 1) #(start, end, step size)\n",
    "arr2"
   ]
  },
  {
   "cell_type": "markdown",
   "id": "8c93390f-f275-422e-b4d2-5843954db4d5",
   "metadata": {},
   "source": [
    "# Multidimensional arrays\n"
   ]
  },
  {
   "cell_type": "markdown",
   "id": "905f2f1d-b33f-4438-8762-c4908681fc15",
   "metadata": {},
   "source": [
    "## Combining two list - Two Dimensional arrays\n"
   ]
  },
  {
   "cell_type": "code",
   "execution_count": 8,
   "id": "e7666493-2cff-4505-bfc3-eda57b033fb6",
   "metadata": {},
   "outputs": [
    {
     "data": {
      "text/plain": [
       "array([[10, 20, 30],\n",
       "       [40, 50, 60]])"
      ]
     },
     "execution_count": 8,
     "metadata": {},
     "output_type": "execute_result"
    }
   ],
   "source": [
    "list2 = [40,50,60]\n",
    "\n",
    "list3 = [list1, list2]\n",
    "\n",
    "arr3 = np.array(list3)\n",
    "arr3"
   ]
  },
  {
   "cell_type": "code",
   "execution_count": 9,
   "id": "0659d10d-f63b-4cf4-a998-435101317d20",
   "metadata": {},
   "outputs": [
    {
     "data": {
      "text/plain": [
       "(2, 3)"
      ]
     },
     "execution_count": 9,
     "metadata": {},
     "output_type": "execute_result"
    }
   ],
   "source": [
    "#shows rows and columns\n",
    "arr3.shape"
   ]
  },
  {
   "cell_type": "markdown",
   "id": "3e43bf19-db21-4580-a2fb-d876a25ceb80",
   "metadata": {},
   "source": [
    "# Three-dimensional arrays\n"
   ]
  },
  {
   "cell_type": "code",
   "execution_count": 13,
   "id": "308fdeda-8b9a-429b-9b7c-9f3da6ab82a1",
   "metadata": {},
   "outputs": [
    {
     "data": {
      "text/plain": [
       "array([[[1, 2, 3],\n",
       "        [3, 4, 5]],\n",
       "\n",
       "       [[5, 6, 7],\n",
       "        [7, 8, 9]]])"
      ]
     },
     "execution_count": 13,
     "metadata": {},
     "output_type": "execute_result"
    }
   ],
   "source": [
    "arr3dim = np.array([[[1, 2, 3], [3,4,5]], \n",
    "                     [[5,6,7], [7,8,9]]])\n",
    "arr3dim"
   ]
  },
  {
   "cell_type": "code",
   "execution_count": 14,
   "id": "e8607854-56b1-4a95-b1ca-b0c12aeea956",
   "metadata": {},
   "outputs": [
    {
     "data": {
      "text/plain": [
       "(2, 2, 3)"
      ]
     },
     "execution_count": 14,
     "metadata": {},
     "output_type": "execute_result"
    }
   ],
   "source": [
    "arr3dim.shape"
   ]
  },
  {
   "cell_type": "markdown",
   "id": "843648de-5606-40f7-8844-7ccca285968c",
   "metadata": {},
   "source": [
    "## Using Arrays and Scalars\n",
    "\n",
    "Numpy arrays (or ndarray) allows us to perform matric operations"
   ]
  },
  {
   "cell_type": "code",
   "execution_count": 16,
   "id": "499af052-2ff6-4ab4-adce-66586cbd73d9",
   "metadata": {},
   "outputs": [
    {
     "data": {
      "text/plain": [
       "[10, 20, 30, 10, 20, 30, 10, 20, 30]"
      ]
     },
     "execution_count": 16,
     "metadata": {},
     "output_type": "execute_result"
    }
   ],
   "source": [
    "list1 * 3\n",
    "#lists and arrays are treated differently"
   ]
  },
  {
   "cell_type": "code",
   "execution_count": 17,
   "id": "1792b36a-9c97-4e2c-8987-43aebdc9128b",
   "metadata": {},
   "outputs": [
    {
     "data": {
      "text/plain": [
       "array([ 400, 1000, 1800])"
      ]
     },
     "execution_count": 17,
     "metadata": {},
     "output_type": "execute_result"
    }
   ],
   "source": [
    "#array multiplied by another array\n",
    "arr11 = np.array(list2)\n",
    "\n",
    "arr1 * arr11"
   ]
  },
  {
   "cell_type": "markdown",
   "id": "8d98de9a-72ce-430b-acc2-bb9fdcce9f91",
   "metadata": {},
   "source": [
    "### It is possible to multiply arrays of different dimensions, but they need the same element size"
   ]
  },
  {
   "cell_type": "code",
   "execution_count": 18,
   "id": "a4a5d568-8a8a-47ba-9b4e-343f8854f4de",
   "metadata": {},
   "outputs": [
    {
     "data": {
      "text/plain": [
       "array([[[ 10,  40,  90],\n",
       "        [ 30,  80, 150]],\n",
       "\n",
       "       [[ 50, 120, 210],\n",
       "        [ 70, 160, 270]]])"
      ]
     },
     "execution_count": 18,
     "metadata": {},
     "output_type": "execute_result"
    }
   ],
   "source": [
    "arr1 * arr3dim"
   ]
  },
  {
   "cell_type": "markdown",
   "id": "e55ec769-3c36-4322-9cc9-1881ea4c8ca0",
   "metadata": {},
   "source": [
    "# Create ndarrays of the following sizes:\n",
    "One dimensional array with 12 elements (12,)\n",
    "Two dimensional array size (3, 4)\n",
    "Three dimensional array size (2, 5, 4)"
   ]
  },
  {
   "cell_type": "code",
   "execution_count": 23,
   "id": "303a50bb-c791-4531-ad47-9dbcb38b3e47",
   "metadata": {},
   "outputs": [
    {
     "data": {
      "text/plain": [
       "array([ 0,  1,  2,  3,  4,  5,  6,  7,  8,  9, 10, 11])"
      ]
     },
     "execution_count": 23,
     "metadata": {},
     "output_type": "execute_result"
    }
   ],
   "source": [
    "#one dimension array with 12 elements\n",
    "x = np.arange(12)\n",
    "x"
   ]
  },
  {
   "cell_type": "code",
   "execution_count": 28,
   "id": "3a4b20f5-577b-4c9e-ad4e-81a174478499",
   "metadata": {},
   "outputs": [
    {
     "data": {
      "text/plain": [
       "array([[ 0,  1,  2,  3],\n",
       "       [ 4,  5,  6,  7],\n",
       "       [ 8,  9, 10, 11]])"
      ]
     },
     "execution_count": 28,
     "metadata": {},
     "output_type": "execute_result"
    }
   ],
   "source": [
    "# two dimensional array size (3,4)\n",
    "y = np.arange(12).reshape(3, 4) #raveling the array (using the given index order)\n",
    "y"
   ]
  },
  {
   "cell_type": "code",
   "execution_count": 31,
   "id": "83367b78-4b95-43e4-ba4c-e749d8cc4e25",
   "metadata": {},
   "outputs": [
    {
     "data": {
      "text/plain": [
       "(2, 5, 4)"
      ]
     },
     "execution_count": 31,
     "metadata": {},
     "output_type": "execute_result"
    }
   ],
   "source": [
    "# three dimensional array size (2, 5, 4)\n",
    "z = np.arange(40).reshape(2, 5, 4)\n",
    "z\n",
    "z.shape"
   ]
  },
  {
   "cell_type": "code",
   "execution_count": 32,
   "id": "9c31d369-10ec-47f4-a8af-93fb04154a18",
   "metadata": {},
   "outputs": [
    {
     "data": {
      "text/plain": [
       "array([[ 0,  1,  2,  3],\n",
       "       [ 4,  5,  6,  7],\n",
       "       [ 8,  9, 10, 11]])"
      ]
     },
     "execution_count": 32,
     "metadata": {},
     "output_type": "execute_result"
    }
   ],
   "source": [
    "# two dimensional array size (3, 4)\n",
    "array_2d = np.array([[0, 1, 2, 3], [4, 5, 6, 7], [8, 9, 10, 11]])\n",
    "array_2d"
   ]
  },
  {
   "cell_type": "markdown",
   "id": "dc541c80-d026-43c0-95d8-82d208bbba98",
   "metadata": {},
   "source": [
    "### Accessing the values inside ndarrays\n",
    "\n",
    "Lets take arr3 as our example, this was a 2d array"
   ]
  },
  {
   "cell_type": "code",
   "execution_count": 34,
   "id": "f2ebefd1-b1af-40f5-9fb2-616a27248a4a",
   "metadata": {},
   "outputs": [
    {
     "data": {
      "text/plain": [
       "array([[10, 20, 30],\n",
       "       [40, 50, 60]])"
      ]
     },
     "execution_count": 34,
     "metadata": {},
     "output_type": "execute_result"
    }
   ],
   "source": [
    "#how do we acccess 60?\n",
    "arr3"
   ]
  },
  {
   "cell_type": "code",
   "execution_count": 36,
   "id": "bb76f694-b3cf-4f1b-9b32-07a442d16c04",
   "metadata": {},
   "outputs": [
    {
     "data": {
      "text/plain": [
       "60"
      ]
     },
     "execution_count": 36,
     "metadata": {},
     "output_type": "execute_result"
    }
   ],
   "source": [
    "arr3[1][2] # this uses indexing"
   ]
  },
  {
   "cell_type": "code",
   "execution_count": 37,
   "id": "89ffd738-b208-487a-9186-6649835bca2e",
   "metadata": {},
   "outputs": [
    {
     "data": {
      "text/plain": [
       "array([40, 50, 60])"
      ]
     },
     "execution_count": 37,
     "metadata": {},
     "output_type": "execute_result"
    }
   ],
   "source": [
    "#How to find the bottom row?\n",
    "arr3[1]"
   ]
  },
  {
   "cell_type": "code",
   "execution_count": 39,
   "id": "7d3b940a-8662-4d1a-8697-5db77d90e840",
   "metadata": {},
   "outputs": [
    {
     "data": {
      "text/plain": [
       "array([30, 60])"
      ]
     },
     "execution_count": 39,
     "metadata": {},
     "output_type": "execute_result"
    }
   ],
   "source": [
    "#last column\n",
    "arr3[:,2]"
   ]
  },
  {
   "cell_type": "code",
   "execution_count": 40,
   "id": "d4340c01-09ab-417f-b418-02d67269e665",
   "metadata": {},
   "outputs": [
    {
     "data": {
      "text/plain": [
       "array([10, 20, 30])"
      ]
     },
     "execution_count": 40,
     "metadata": {},
     "output_type": "execute_result"
    }
   ],
   "source": [
    "#first row\n",
    "arr3[0,:]"
   ]
  },
  {
   "cell_type": "markdown",
   "id": "f07bf8d2-2740-4bdc-9cc1-e4aea87e5918",
   "metadata": {},
   "source": [
    "## Statistical functions and arrays\n",
    "\n",
    "There are a number of builtin functions we can use with numpy"
   ]
  },
  {
   "cell_type": "code",
   "execution_count": 41,
   "id": "fedcac2d-f905-431d-bbb1-54f0238d4bf2",
   "metadata": {},
   "outputs": [
    {
     "data": {
      "text/plain": [
       "210"
      ]
     },
     "execution_count": 41,
     "metadata": {},
     "output_type": "execute_result"
    }
   ],
   "source": [
    "#find the sum \n",
    "arr3.sum()"
   ]
  },
  {
   "cell_type": "code",
   "execution_count": 42,
   "id": "de9da03c-bece-41e3-bd61-d13a9df3424f",
   "metadata": {},
   "outputs": [
    {
     "data": {
      "text/plain": [
       "array([50, 70, 90])"
      ]
     },
     "execution_count": 42,
     "metadata": {},
     "output_type": "execute_result"
    }
   ],
   "source": [
    "#find the sum of all columns\n",
    "arr3.sum(0)"
   ]
  },
  {
   "cell_type": "code",
   "execution_count": 43,
   "id": "a4a7e83d-602b-4aae-8c07-5bc619009136",
   "metadata": {},
   "outputs": [
    {
     "data": {
      "text/plain": [
       "array([ 60, 150])"
      ]
     },
     "execution_count": 43,
     "metadata": {},
     "output_type": "execute_result"
    }
   ],
   "source": [
    "#finding the sum of all rows\n",
    "arr3.sum(1)"
   ]
  },
  {
   "cell_type": "code",
   "execution_count": 44,
   "id": "a1e4d95d-017f-411e-bb00-105c0911f239",
   "metadata": {},
   "outputs": [
    {
     "data": {
      "text/plain": [
       "35.0"
      ]
     },
     "execution_count": 44,
     "metadata": {},
     "output_type": "execute_result"
    }
   ],
   "source": [
    "#find mean\n",
    "arr3.mean()"
   ]
  },
  {
   "cell_type": "code",
   "execution_count": 45,
   "id": "16b6cc22-6391-4106-8a25-bc71b3f15119",
   "metadata": {},
   "outputs": [
    {
     "data": {
      "text/plain": [
       "17.07825127659933"
      ]
     },
     "execution_count": 45,
     "metadata": {},
     "output_type": "execute_result"
    }
   ],
   "source": [
    "#find standard deviation\n",
    "arr3.std()"
   ]
  },
  {
   "cell_type": "code",
   "execution_count": 46,
   "id": "bd528cd9-8233-42de-a279-96a8f6ae8f41",
   "metadata": {},
   "outputs": [
    {
     "data": {
      "text/plain": [
       "291.6666666666667"
      ]
     },
     "execution_count": 46,
     "metadata": {},
     "output_type": "execute_result"
    }
   ],
   "source": [
    "#find variance\n",
    "arr3.var()"
   ]
  },
  {
   "cell_type": "code",
   "execution_count": 47,
   "id": "2ad13682-8d96-4e91-8ee7-67cdad3918a7",
   "metadata": {},
   "outputs": [
    {
     "data": {
      "text/plain": [
       "10"
      ]
     },
     "execution_count": 47,
     "metadata": {},
     "output_type": "execute_result"
    }
   ],
   "source": [
    "#find min value\n",
    "arr3.min()"
   ]
  },
  {
   "cell_type": "code",
   "execution_count": 48,
   "id": "c8e1ba8f-bf65-4c6f-8d0f-d5911845cb7a",
   "metadata": {},
   "outputs": [
    {
     "data": {
      "text/plain": [
       "60"
      ]
     },
     "execution_count": 48,
     "metadata": {},
     "output_type": "execute_result"
    }
   ],
   "source": [
    "#find max value\n",
    "arr3.max()"
   ]
  },
  {
   "cell_type": "markdown",
   "id": "e9c1389f-e9c3-4ecf-9be8-dfb991b30c61",
   "metadata": {},
   "source": [
    "# Iterating through ndarrays\n",
    "\n",
    "Simplest way to use a simple loop"
   ]
  },
  {
   "cell_type": "code",
   "execution_count": 49,
   "id": "e566c7ba-775e-4eb1-862b-df245c4b51c1",
   "metadata": {},
   "outputs": [
    {
     "name": "stdout",
     "output_type": "stream",
     "text": [
      "10\n",
      "20\n",
      "30\n"
     ]
    }
   ],
   "source": [
    "#for a 1d array\n",
    "for x in arr1:\n",
    "    print(x)"
   ]
  },
  {
   "cell_type": "code",
   "execution_count": 50,
   "id": "37b57d07-ef6f-41a2-88dc-c33628b18b55",
   "metadata": {},
   "outputs": [
    {
     "name": "stdout",
     "output_type": "stream",
     "text": [
      "10\n",
      "20\n",
      "30\n",
      "40\n",
      "50\n",
      "60\n"
     ]
    }
   ],
   "source": [
    "#use nested loop for n-dimensional array\n",
    "for dim in arr3:\n",
    "    for num in dim:\n",
    "        print(num)"
   ]
  },
  {
   "cell_type": "code",
   "execution_count": 52,
   "id": "394e9d04-c2c7-4b19-895f-91c468b0c91c",
   "metadata": {},
   "outputs": [
    {
     "name": "stdout",
     "output_type": "stream",
     "text": [
      "10\n",
      "20\n",
      "30\n",
      "40\n",
      "50\n",
      "60\n"
     ]
    }
   ],
   "source": [
    "#use nditter\n",
    "#used in simple scenarios, but also complex ones too\n",
    "#tends to be cleaner for nested loops\n",
    "for x in np.nditer(arr3):\n",
    "    print(x)"
   ]
  },
  {
   "cell_type": "markdown",
   "id": "bca1bb90-ec40-43de-9b22-4cbda351a58a",
   "metadata": {},
   "source": [
    "### Saving and loading in numpy"
   ]
  },
  {
   "cell_type": "code",
   "execution_count": 53,
   "id": "a3285519-bbb6-4165-a9b6-5e8e04fb3aa3",
   "metadata": {},
   "outputs": [],
   "source": [
    "# TO save an array as a file\n",
    "np.save('new', arr3)"
   ]
  },
  {
   "cell_type": "code",
   "execution_count": 54,
   "id": "5c9347e8-c9f5-46c3-9dd1-804d7bdd633c",
   "metadata": {},
   "outputs": [
    {
     "data": {
      "text/plain": [
       "array([[10, 20, 30],\n",
       "       [40, 50, 60]])"
      ]
     },
     "execution_count": 54,
     "metadata": {},
     "output_type": "execute_result"
    }
   ],
   "source": [
    "# load the file\n",
    "np.load('new.npy')"
   ]
  },
  {
   "cell_type": "code",
   "execution_count": 55,
   "id": "5d6ad68c-765e-4f29-9058-cda2f85ebcc8",
   "metadata": {},
   "outputs": [],
   "source": [
    "#saving as a txt\n",
    "np.savetxt('new.txt', arr3, delimiter=',')"
   ]
  },
  {
   "cell_type": "code",
   "execution_count": 56,
   "id": "18e8fc29-45ea-4c37-a972-a6f4eb48e1ba",
   "metadata": {},
   "outputs": [
    {
     "data": {
      "text/plain": [
       "array([[10., 20., 30.],\n",
       "       [40., 50., 60.]])"
      ]
     },
     "execution_count": 56,
     "metadata": {},
     "output_type": "execute_result"
    }
   ],
   "source": [
    "#loading a txt\n",
    "np.loadtxt('new.txt', delimiter=',')"
   ]
  },
  {
   "cell_type": "code",
   "execution_count": null,
   "id": "6230c5e5-8727-4fe0-9a8f-93e1ef63d429",
   "metadata": {},
   "outputs": [],
   "source": []
  }
 ],
 "metadata": {
  "kernelspec": {
   "display_name": "Python 3 (ipykernel)",
   "language": "python",
   "name": "python3"
  },
  "language_info": {
   "codemirror_mode": {
    "name": "ipython",
    "version": 3
   },
   "file_extension": ".py",
   "mimetype": "text/x-python",
   "name": "python",
   "nbconvert_exporter": "python",
   "pygments_lexer": "ipython3",
   "version": "3.11.5"
  }
 },
 "nbformat": 4,
 "nbformat_minor": 5
}
