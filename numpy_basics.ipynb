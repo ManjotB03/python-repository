{
 "cells": [
  {
   "cell_type": "markdown",
   "id": "beef54b1-be41-4e6d-a215-de20416efb98",
   "metadata": {},
   "source": [
    "# Numpy "
   ]
  },
  {
   "cell_type": "markdown",
   "id": "cffdc01c-15f0-4f1f-8439-66b8ea9b7bd2",
   "metadata": {},
   "source": [
    "Numpy is a library which provides support for large, homogeneous, multi-dimensional arrays and matrices"
   ]
  },
  {
   "cell_type": "code",
   "execution_count": 9,
   "id": "0472224f-febd-4a86-a5aa-c7d316e86164",
   "metadata": {},
   "outputs": [
    {
     "name": "stdout",
     "output_type": "stream",
     "text": [
      "Collecting numpy\n",
      "  Obtaining dependency information for numpy from https://files.pythonhosted.org/packages/fc/84/7f801a42a67b9772a883223a0a1e12069a14626c81a732bd70aac57aebc1/numpy-2.2.2-cp312-cp312-win_amd64.whl.metadata\n",
      "  Downloading numpy-2.2.2-cp312-cp312-win_amd64.whl.metadata (60 kB)\n",
      "     ---------------------------------------- 0.0/60.8 kB ? eta -:--:--\n",
      "     ------ --------------------------------- 10.2/60.8 kB ? eta -:--:--\n",
      "     ------------ ------------------------- 20.5/60.8 kB 217.9 kB/s eta 0:00:01\n",
      "     ------------------- ------------------ 30.7/60.8 kB 262.6 kB/s eta 0:00:01\n",
      "     ------------------------------- ------ 51.2/60.8 kB 327.7 kB/s eta 0:00:01\n",
      "     -------------------------------------- 60.8/60.8 kB 294.2 kB/s eta 0:00:00\n",
      "Downloading numpy-2.2.2-cp312-cp312-win_amd64.whl (12.6 MB)\n",
      "   ---------------------------------------- 0.0/12.6 MB ? eta -:--:--\n",
      "   ---------------------------------------- 0.1/12.6 MB 3.6 MB/s eta 0:00:04\n",
      "   - -------------------------------------- 0.6/12.6 MB 7.4 MB/s eta 0:00:02\n",
      "   ---- ----------------------------------- 1.3/12.6 MB 10.6 MB/s eta 0:00:02\n",
      "   ------ --------------------------------- 2.1/12.6 MB 12.4 MB/s eta 0:00:01\n",
      "   ------- -------------------------------- 2.4/12.6 MB 13.6 MB/s eta 0:00:01\n",
      "   --------- ------------------------------ 3.1/12.6 MB 11.6 MB/s eta 0:00:01\n",
      "   ------------- -------------------------- 4.2/12.6 MB 13.2 MB/s eta 0:00:01\n",
      "   ---------------- ----------------------- 5.3/12.6 MB 14.7 MB/s eta 0:00:01\n",
      "   -------------------- ------------------- 6.4/12.6 MB 15.7 MB/s eta 0:00:01\n",
      "   ------------------------ --------------- 7.6/12.6 MB 17.4 MB/s eta 0:00:01\n",
      "   ---------------------------- ----------- 8.9/12.6 MB 18.4 MB/s eta 0:00:01\n",
      "   --------------------------------- ------ 10.5/12.6 MB 21.1 MB/s eta 0:00:01\n",
      "   ------------------------------------ --- 11.6/12.6 MB 22.6 MB/s eta 0:00:01\n",
      "   ---------------------------------------  12.6/12.6 MB 26.2 MB/s eta 0:00:01\n",
      "   ---------------------------------------  12.6/12.6 MB 26.2 MB/s eta 0:00:01\n",
      "   ---------------------------------------- 12.6/12.6 MB 21.8 MB/s eta 0:00:00\n",
      "Installing collected packages: numpy\n",
      "Successfully installed numpy-2.2.2\n"
     ]
    },
    {
     "name": "stderr",
     "output_type": "stream",
     "text": [
      "\n",
      "[notice] A new release of pip is available: 23.2.1 -> 25.0\n",
      "[notice] To update, run: python.exe -m pip install --upgrade pip\n"
     ]
    }
   ],
   "source": [
    "!pip install numpy"
   ]
  },
  {
   "cell_type": "code",
   "execution_count": 11,
   "id": "8ebe9f74-081f-4046-bd48-c78c20e7e9bc",
   "metadata": {},
   "outputs": [],
   "source": [
    "#import numpy\n",
    "import numpy as np"
   ]
  },
  {
   "cell_type": "markdown",
   "id": "0fe5081c-b4a9-439e-b827-0f5602663a5f",
   "metadata": {},
   "source": [
    "# Creating an array from a list"
   ]
  },
  {
   "cell_type": "code",
   "execution_count": 12,
   "id": "3e25e41f-a370-47c8-ab1f-c879e5f8561b",
   "metadata": {},
   "outputs": [
    {
     "data": {
      "text/plain": [
       "[10, 20, 30]"
      ]
     },
     "execution_count": 12,
     "metadata": {},
     "output_type": "execute_result"
    }
   ],
   "source": [
    "list1 = [10,20,30]\n",
    "list1"
   ]
  },
  {
   "cell_type": "code",
   "execution_count": 13,
   "id": "22ff6a13-001e-4f76-b062-8fdfcfbb4c77",
   "metadata": {},
   "outputs": [
    {
     "data": {
      "text/plain": [
       "array([10, 20, 30])"
      ]
     },
     "execution_count": 13,
     "metadata": {},
     "output_type": "execute_result"
    }
   ],
   "source": [
    "arr1 = np.array(list1)\n",
    "arr1"
   ]
  },
  {
   "cell_type": "code",
   "execution_count": 14,
   "id": "50ef4d02-16b0-4b6d-aa59-93bbf691770a",
   "metadata": {},
   "outputs": [
    {
     "data": {
      "text/plain": [
       "numpy.ndarray"
      ]
     },
     "execution_count": 14,
     "metadata": {},
     "output_type": "execute_result"
    }
   ],
   "source": [
    "type(arr1)"
   ]
  },
  {
   "cell_type": "markdown",
   "id": "763cd9e1-d0b1-4879-af3f-60cc64d5a85d",
   "metadata": {},
   "source": [
    "# Using arrange to create an array"
   ]
  },
  {
   "cell_type": "markdown",
   "id": "f2b40852-fcd2-4707-a9cd-ffdb756fd4c1",
   "metadata": {},
   "source": [
    "The difference between array and arrange is that array takes in a list and turns it into an array, whereas arange creates an array from a range of numbers"
   ]
  },
  {
   "cell_type": "code",
   "execution_count": 15,
   "id": "8930e5e0-5c4a-4f01-902e-eb59c2e2f556",
   "metadata": {},
   "outputs": [
    {
     "data": {
      "text/plain": [
       "array([10, 11, 12, 13, 14, 15, 16, 17, 18, 19])"
      ]
     },
     "execution_count": 15,
     "metadata": {},
     "output_type": "execute_result"
    }
   ],
   "source": [
    "arr2 = np.arange(10, 20, 1) #(start, end, step size)\n",
    "arr2"
   ]
  },
  {
   "cell_type": "markdown",
   "id": "8c93390f-f275-422e-b4d2-5843954db4d5",
   "metadata": {},
   "source": [
    "# Multidimensional arrays\n"
   ]
  },
  {
   "cell_type": "markdown",
   "id": "905f2f1d-b33f-4438-8762-c4908681fc15",
   "metadata": {},
   "source": [
    "## Combining two list - Two Dimensional arrays\n"
   ]
  },
  {
   "cell_type": "code",
   "execution_count": 16,
   "id": "e7666493-2cff-4505-bfc3-eda57b033fb6",
   "metadata": {},
   "outputs": [
    {
     "data": {
      "text/plain": [
       "array([[10, 20, 30],\n",
       "       [40, 50, 60]])"
      ]
     },
     "execution_count": 16,
     "metadata": {},
     "output_type": "execute_result"
    }
   ],
   "source": [
    "list2 = [40,50,60]\n",
    "\n",
    "list3 = [list1, list2]\n",
    "\n",
    "arr3 = np.array(list3)\n",
    "arr3"
   ]
  },
  {
   "cell_type": "code",
   "execution_count": 18,
   "id": "0659d10d-f63b-4cf4-a998-435101317d20",
   "metadata": {},
   "outputs": [
    {
     "data": {
      "text/plain": [
       "(2, 3)"
      ]
     },
     "execution_count": 18,
     "metadata": {},
     "output_type": "execute_result"
    }
   ],
   "source": [
    "#shows rows and columns\n",
    "arr3.shape"
   ]
  },
  {
   "cell_type": "markdown",
   "id": "3e43bf19-db21-4580-a2fb-d876a25ceb80",
   "metadata": {},
   "source": [
    "# Three-dimensional arrays\n"
   ]
  },
  {
   "cell_type": "code",
   "execution_count": null,
   "id": "308fdeda-8b9a-429b-9b7c-9f3da6ab82a1",
   "metadata": {},
   "outputs": [],
   "source": []
  }
 ],
 "metadata": {
  "kernelspec": {
   "display_name": "Python 3 (ipykernel)",
   "language": "python",
   "name": "python3"
  },
  "language_info": {
   "codemirror_mode": {
    "name": "ipython",
    "version": 3
   },
   "file_extension": ".py",
   "mimetype": "text/x-python",
   "name": "python",
   "nbconvert_exporter": "python",
   "pygments_lexer": "ipython3",
   "version": "3.12.2"
  }
 },
 "nbformat": 4,
 "nbformat_minor": 5
}
